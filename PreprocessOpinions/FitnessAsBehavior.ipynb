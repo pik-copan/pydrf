{
 "cells": [
  {
   "cell_type": "code",
   "execution_count": 18,
   "metadata": {},
   "outputs": [
    {
     "name": "stdout",
     "output_type": "stream",
     "text": [
      "The autoreload extension is already loaded. To reload it, use:\n",
      "  %reload_ext autoreload\n"
     ]
    }
   ],
   "source": [
    "%load_ext autoreload\n",
    "%autoreload 2\n",
    "%matplotlib notebook\n",
    "from geolocation_tools.geo_tools.locations import Locations, Helper\n",
    "from sensible_raw.loaders import loader\n",
    "import pandas as pd\n",
    "import numpy as np\n",
    "import preprocess_helper as ph"
   ]
  },
  {
   "cell_type": "code",
   "execution_count": 19,
   "metadata": {},
   "outputs": [],
   "source": [
    "# load data\n",
    "\n",
    "# this file is calculated by running \"./calc_positions.py sports\"\n",
    "all_people = pd.read_pickle('../tmp/sports_2019-03-08_14:06.pkl')"
   ]
  },
  {
   "cell_type": "code",
   "execution_count": 7,
   "metadata": {},
   "outputs": [],
   "source": [
    "# create boolean mask: who is close to a fitness center\n",
    "\n",
    "mask = []\n",
    "for x in all_people.iterrows():\n",
    "    if not isinstance(x[1][\"next_to_sports\"], bool):\n",
    "        if not (x[1][\"next_to_sports\"].leisure == 'fitness_centre' or x[1][\"next_to_sports\"].sport == 'fitness'):\n",
    "            mask += [True]\n",
    "        else:\n",
    "            mask += [False]\n",
    "    else:\n",
    "        mask += [False]\n",
    "        "
   ]
  },
  {
   "cell_type": "code",
   "execution_count": 20,
   "metadata": {},
   "outputs": [],
   "source": [
    "# filter people with mask\n",
    "all_people.loc[mask,'next_to_sports'] = False"
   ]
  },
  {
   "cell_type": "code",
   "execution_count": 21,
   "metadata": {},
   "outputs": [],
   "source": [
    "# calculate visits per 7 days using gaussian smoothing\n",
    "data, raw_data = ph.Helper.count_visits_per_time(data=all_people, location=\"sports\", opinion_type='op_fitness', time = 7, min_visit_time_minutes = 15)"
   ]
  },
  {
   "cell_type": "code",
   "execution_count": 22,
   "metadata": {},
   "outputs": [],
   "source": [
    "# save file\n",
    "data.to_pickle(\"~/data/op_fitness.pkl\")"
   ]
  }
 ],
 "metadata": {
  "kernelspec": {
   "display_name": "Python 3",
   "language": "python",
   "name": "python3"
  },
  "language_info": {
   "codemirror_mode": {
    "name": "ipython",
    "version": 3
   },
   "file_extension": ".py",
   "mimetype": "text/x-python",
   "name": "python",
   "nbconvert_exporter": "python",
   "pygments_lexer": "ipython3",
   "version": "3.8.2"
  }
 },
 "nbformat": 4,
 "nbformat_minor": 2
}
