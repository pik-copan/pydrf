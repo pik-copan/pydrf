{
 "cells": [
  {
   "cell_type": "code",
   "execution_count": 13,
   "metadata": {},
   "outputs": [
    {
     "name": "stdout",
     "output_type": "stream",
     "text": [
      "The autoreload extension is already loaded. To reload it, use:\n",
      "  %reload_ext autoreload\n"
     ]
    }
   ],
   "source": [
    "%load_ext autoreload\n",
    "%autoreload 2\n",
    "%matplotlib notebook\n",
    "import pandas as pd\n",
    "import numpy as np\n",
    "from sensible_raw.loaders import loader\n",
    "import preprocess_relation_helper as ph"
   ]
  },
  {
   "cell_type": "code",
   "execution_count": 14,
   "metadata": {},
   "outputs": [],
   "source": [
    "# set time range for the time series\n",
    "\n",
    "CNS_TIME_BEGIN = pd.Timestamp(pd.datetime(2014, 1, 1)) # first timestamp \n",
    "CNS_TIME_END = pd.Timestamp(pd.datetime(2014, 4, 30)) # last timestamp\n",
    "\n",
    "time = pd.DataFrame(pd.date_range(CNS_TIME_BEGIN, CNS_TIME_END, freq='d'),columns=['time'])"
   ]
  },
  {
   "cell_type": "code",
   "execution_count": 15,
   "metadata": {},
   "outputs": [],
   "source": [
    "# load data\n",
    "data = pd.DataFrame()\n",
    "            \n",
    "time_slices = ['january_2014', 'february_2014', 'march_2014', 'april_2014']\n",
    "for t in time_slices:\n",
    "    data_t = loader.load_data(\"bluetooth\", t , as_dataframe=True) \n",
    "    data = pd.concat([ data, data_t])"
   ]
  },
  {
   "cell_type": "code",
   "execution_count": 16,
   "metadata": {},
   "outputs": [
    {
     "name": "stderr",
     "output_type": "stream",
     "text": [
      "/home/lochnerpik@gmail.com/PreprocessRelations/preprocess_relation_helper.py:28: FutureWarning: Sorting because non-concatenation axis is not aligned. A future version\n",
      "of pandas will change to not sort by default.\n",
      "\n",
      "To accept the future behavior, pass 'sort=False'.\n",
      "\n",
      "To retain the current behavior and silence the warning, pass 'sort=True'.\n",
      "\n",
      "  data = pd.concat([data, data_inv])\n"
     ]
    }
   ],
   "source": [
    "# filter by signal strength, valid users, \n",
    "data = ph.Helper.filter_raw_data(data, CNS_TIME_BEGIN, CNS_TIME_END)"
   ]
  },
  {
   "cell_type": "code",
   "execution_count": 17,
   "metadata": {},
   "outputs": [],
   "source": [
    "# calculate meetings of to nodes per day using gaussian smoothing\n",
    "data = ph.Helper.agg_to_visits_per_day(data, time)"
   ]
  },
  {
   "cell_type": "code",
   "execution_count": 7,
   "metadata": {},
   "outputs": [
    {
     "data": {
      "text/html": [
       "<div>\n",
       "<style scoped>\n",
       "    .dataframe tbody tr th:only-of-type {\n",
       "        vertical-align: middle;\n",
       "    }\n",
       "\n",
       "    .dataframe tbody tr th {\n",
       "        vertical-align: top;\n",
       "    }\n",
       "\n",
       "    .dataframe thead th {\n",
       "        text-align: right;\n",
       "    }\n",
       "</style>\n",
       "<table border=\"1\" class=\"dataframe\">\n",
       "  <thead>\n",
       "    <tr style=\"text-align: right;\">\n",
       "      <th></th>\n",
       "      <th>id_A</th>\n",
       "      <th>id_B</th>\n",
       "      <th>encounter</th>\n",
       "    </tr>\n",
       "  </thead>\n",
       "  <tbody>\n",
       "    <tr>\n",
       "      <th>count</th>\n",
       "      <td>1.714476e+07</td>\n",
       "      <td>1.714476e+07</td>\n",
       "      <td>1.714476e+07</td>\n",
       "    </tr>\n",
       "    <tr>\n",
       "      <th>mean</th>\n",
       "      <td>2.309464e+02</td>\n",
       "      <td>4.655297e+02</td>\n",
       "      <td>4.572542e-01</td>\n",
       "    </tr>\n",
       "    <tr>\n",
       "      <th>std</th>\n",
       "      <td>1.618127e+02</td>\n",
       "      <td>1.691337e+02</td>\n",
       "      <td>5.146374e+00</td>\n",
       "    </tr>\n",
       "    <tr>\n",
       "      <th>min</th>\n",
       "      <td>0.000000e+00</td>\n",
       "      <td>3.000000e+00</td>\n",
       "      <td>0.000000e+00</td>\n",
       "    </tr>\n",
       "    <tr>\n",
       "      <th>25%</th>\n",
       "      <td>9.500000e+01</td>\n",
       "      <td>3.490000e+02</td>\n",
       "      <td>0.000000e+00</td>\n",
       "    </tr>\n",
       "    <tr>\n",
       "      <th>50%</th>\n",
       "      <td>2.010000e+02</td>\n",
       "      <td>4.860000e+02</td>\n",
       "      <td>0.000000e+00</td>\n",
       "    </tr>\n",
       "    <tr>\n",
       "      <th>75%</th>\n",
       "      <td>3.480000e+02</td>\n",
       "      <td>5.990000e+02</td>\n",
       "      <td>0.000000e+00</td>\n",
       "    </tr>\n",
       "    <tr>\n",
       "      <th>max</th>\n",
       "      <td>7.970000e+02</td>\n",
       "      <td>8.450000e+02</td>\n",
       "      <td>5.400000e+02</td>\n",
       "    </tr>\n",
       "  </tbody>\n",
       "</table>\n",
       "</div>"
      ],
      "text/plain": [
       "               id_A          id_B     encounter\n",
       "count  1.714476e+07  1.714476e+07  1.714476e+07\n",
       "mean   2.309464e+02  4.655297e+02  4.572542e-01\n",
       "std    1.618127e+02  1.691337e+02  5.146374e+00\n",
       "min    0.000000e+00  3.000000e+00  0.000000e+00\n",
       "25%    9.500000e+01  3.490000e+02  0.000000e+00\n",
       "50%    2.010000e+02  4.860000e+02  0.000000e+00\n",
       "75%    3.480000e+02  5.990000e+02  0.000000e+00\n",
       "max    7.970000e+02  8.450000e+02  5.400000e+02"
      ]
     },
     "execution_count": 7,
     "metadata": {},
     "output_type": "execute_result"
    }
   ],
   "source": [
    "data.describe()"
   ]
  },
  {
   "cell_type": "code",
   "execution_count": 8,
   "metadata": {},
   "outputs": [],
   "source": [
    "data.loc[data.encounter <= 1, 'encounter'] = 0 # just check if there was an encounter\n",
    "data.loc[data.encounter > 1, 'encounter'] = 1"
   ]
  },
  {
   "cell_type": "code",
   "execution_count": 11,
   "metadata": {},
   "outputs": [],
   "source": [
    "data.rename(columns={\"encounter\":\"edge\"},inplace=True)\n",
    "data[['id_A','id_B','time','edge']].to_pickle(\"../data/relations.pkl\")"
   ]
  }
 ],
 "metadata": {
  "kernelspec": {
   "display_name": "Python 3",
   "language": "python",
   "name": "python3"
  },
  "language_info": {
   "codemirror_mode": {
    "name": "ipython",
    "version": 3
   },
   "file_extension": ".py",
   "mimetype": "text/x-python",
   "name": "python",
   "nbconvert_exporter": "python",
   "pygments_lexer": "ipython3",
   "version": "3.8.2"
  }
 },
 "nbformat": 4,
 "nbformat_minor": 2
}
